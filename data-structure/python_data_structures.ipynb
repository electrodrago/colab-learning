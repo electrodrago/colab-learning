{
  "nbformat": 4,
  "nbformat_minor": 0,
  "metadata": {
    "colab": {
      "name": "python-data-structures.ipynb",
      "provenance": [],
      "authorship_tag": "ABX9TyP0qG4bC8VMXGsWGIeWzK3y",
      "include_colab_link": true
    },
    "kernelspec": {
      "name": "python3",
      "display_name": "Python 3"
    },
    "language_info": {
      "name": "python"
    }
  },
  "cells": [
    {
      "cell_type": "markdown",
      "metadata": {
        "id": "view-in-github",
        "colab_type": "text"
      },
      "source": [
        "<a href=\"https://colab.research.google.com/github/electrodrago/colab-learning/blob/main/python_data_structures.ipynb\" target=\"_parent\"><img src=\"https://colab.research.google.com/assets/colab-badge.svg\" alt=\"Open In Colab\"/></a>"
      ]
    },
    {
      "cell_type": "markdown",
      "source": [
        "# List check"
      ],
      "metadata": {
        "id": "7r_xvcuGctiK"
      }
    },
    {
      "cell_type": "code",
      "execution_count": null,
      "metadata": {
        "colab": {
          "base_uri": "https://localhost:8080/"
        },
        "id": "zpFL3ohUb9g-",
        "outputId": "2286e9e9-886c-4947-bfdc-3f1fa8bee250"
      },
      "outputs": [
        {
          "output_type": "stream",
          "name": "stdout",
          "text": [
            "puter\n",
            "com\n"
          ]
        }
      ],
      "source": [
        "x = 'computer'\n",
        "print(x[3:])\n",
        "print(x[:3])"
      ]
    },
    {
      "cell_type": "code",
      "source": [
        "x[1:6:2]"
      ],
      "metadata": {
        "colab": {
          "base_uri": "https://localhost:8080/",
          "height": 35
        },
        "id": "7_P-Gbz2csx9",
        "outputId": "29c2d942-c6d4-45cb-afd0-04e46c354102"
      },
      "execution_count": null,
      "outputs": [
        {
          "output_type": "execute_result",
          "data": {
            "application/vnd.google.colaboratory.intrinsic+json": {
              "type": "string"
            },
            "text/plain": [
              "'opt'"
            ]
          },
          "metadata": {},
          "execution_count": 2
        }
      ]
    },
    {
      "cell_type": "code",
      "source": [
        "x[-3:]"
      ],
      "metadata": {
        "colab": {
          "base_uri": "https://localhost:8080/",
          "height": 35
        },
        "id": "YxxRtOHlc3Ta",
        "outputId": "a8e08a88-346c-41ef-f3e3-10b86e4f5957"
      },
      "execution_count": null,
      "outputs": [
        {
          "output_type": "execute_result",
          "data": {
            "application/vnd.google.colaboratory.intrinsic+json": {
              "type": "string"
            },
            "text/plain": [
              "'ter'"
            ]
          },
          "metadata": {},
          "execution_count": 3
        }
      ]
    },
    {
      "cell_type": "code",
      "source": [
        "x[:-3]"
      ],
      "metadata": {
        "colab": {
          "base_uri": "https://localhost:8080/",
          "height": 35
        },
        "id": "1wVoKUiCdA2Z",
        "outputId": "1341636e-dd4d-4c2d-fb88-6a8bfebc50d7"
      },
      "execution_count": null,
      "outputs": [
        {
          "output_type": "execute_result",
          "data": {
            "application/vnd.google.colaboratory.intrinsic+json": {
              "type": "string"
            },
            "text/plain": [
              "'compu'"
            ]
          },
          "metadata": {},
          "execution_count": 4
        }
      ]
    },
    {
      "cell_type": "code",
      "source": [
        "a = ['a']\n",
        "# b = a.append(1) this will return None\n",
        "b = a + [1]\n",
        "b"
      ],
      "metadata": {
        "colab": {
          "base_uri": "https://localhost:8080/"
        },
        "id": "j5SdzvyJdI8z",
        "outputId": "8e900c86-9c42-4913-e038-4367eff0be28"
      },
      "execution_count": null,
      "outputs": [
        {
          "output_type": "execute_result",
          "data": {
            "text/plain": [
              "['a', 1]"
            ]
          },
          "metadata": {},
          "execution_count": 13
        }
      ]
    },
    {
      "cell_type": "code",
      "source": [
        "del(b[1])\n",
        "b"
      ],
      "metadata": {
        "colab": {
          "base_uri": "https://localhost:8080/"
        },
        "id": "h-mBgpR7fOHY",
        "outputId": "1d4017e6-19e4-4802-8c16-cc5236ed5460"
      },
      "execution_count": null,
      "outputs": [
        {
          "output_type": "execute_result",
          "data": {
            "text/plain": [
              "['a']"
            ]
          },
          "metadata": {},
          "execution_count": 14
        }
      ]
    },
    {
      "cell_type": "markdown",
      "source": [
        "# Heap"
      ],
      "metadata": {
        "id": "Z1dL4wD9FjZD"
      }
    },
    {
      "cell_type": "markdown",
      "source": [
        "## Maxheap"
      ],
      "metadata": {
        "id": "ChFrDvjVFmtB"
      }
    },
    {
      "cell_type": "code",
      "source": [
        "class MaxHeap:\n",
        "  def __init__(self, items=[]):\n",
        "    super().__init__()\n",
        "    self.heap = [0]\n",
        "    # Add next item and floatUp to get it the correct position\n",
        "    for item in items:\n",
        "      self.heap.append(item)\n",
        "      self.__floatUp(len(self.heap) - 1)\n",
        "  \n",
        "  # Push new item into the heap and reach it the correct position\n",
        "  def push(self, data):\n",
        "    self.heap.append(data)\n",
        "    self.__floatUp(len(self.heap) - 1)\n",
        "  \n",
        "  # Return the max heap\n",
        "  def peek(self):\n",
        "    if self.heap[1]:\n",
        "      return self.heap[1]\n",
        "    else:\n",
        "      return False\n",
        "  \n",
        "  # Swap the first and last item, remove from the list and change heap to \n",
        "  # correct position\n",
        "  def pop(self):\n",
        "    if len(self.heap) > 2:\n",
        "      self.__swap(1, len(self.heap) - 1)\n",
        "      max = self.head.pop()\n",
        "      self.__bubbleDown(1)\n",
        "    elif len(self.heap) == 2:\n",
        "      max = self.heap.pop()\n",
        "    else:\n",
        "      max = False\n",
        "    return max\n",
        "  \n",
        "  def __swap(self, i, j):\n",
        "    self.heap[i], self.heap[j] = self.heap[j], self.heap[i]\n",
        "  \n",
        "  def __floatUp(self, index):\n",
        "    parent = index//2\n",
        "    if index <= 1:\n",
        "      return\n",
        "    elif self.heap[index] > self.heap[parent]:\n",
        "      self.__swap(index, parent)\n",
        "      self.__floatUp(parent)\n",
        "  \n",
        "  def __bubbleDown(self, index):\n",
        "    left = index * 2\n",
        "    right = index * 2 + 1\n",
        "    largest = index\n",
        "    if len(self.heap) > left and self.heap[largest] < self.heap[left]:\n",
        "      largest = left\n",
        "    if len(self.heap) > right and self.heap[largest] < self.healp[right]:\n",
        "      largest = right\n",
        "    if largest != index:\n",
        "      self.__swap(index, largest)\n",
        "      self.__bubbleDown(largest)\n",
        "  def __str__(self):\n",
        "    return str(self.heap)"
      ],
      "metadata": {
        "id": "_A-Fou18Flaz"
      },
      "execution_count": 1,
      "outputs": []
    },
    {
      "cell_type": "code",
      "source": [
        "heap = MaxHeap([23, 2, 5, 12, 19, 19])"
      ],
      "metadata": {
        "id": "Vrk6nj-Lr_2c"
      },
      "execution_count": 6,
      "outputs": []
    },
    {
      "cell_type": "code",
      "source": [
        "print(heap)"
      ],
      "metadata": {
        "colab": {
          "base_uri": "https://localhost:8080/"
        },
        "id": "vpRrkiOXsJMD",
        "outputId": "510eaa02-d8ad-49bc-ed22-19781247d234"
      },
      "execution_count": 7,
      "outputs": [
        {
          "output_type": "stream",
          "name": "stdout",
          "text": [
            "[0, 23, 19, 19, 2, 12, 5]\n"
          ]
        }
      ]
    },
    {
      "cell_type": "code",
      "source": [
        "heap.push(16)"
      ],
      "metadata": {
        "id": "HNS2k2HEsQ5e"
      },
      "execution_count": 8,
      "outputs": []
    },
    {
      "cell_type": "code",
      "source": [
        "print(heap)"
      ],
      "metadata": {
        "colab": {
          "base_uri": "https://localhost:8080/"
        },
        "id": "YpUU2DRYsYgM",
        "outputId": "0da6b19c-8716-4ece-c836-59324f655005"
      },
      "execution_count": 9,
      "outputs": [
        {
          "output_type": "stream",
          "name": "stdout",
          "text": [
            "[0, 23, 19, 19, 2, 12, 5, 16]\n"
          ]
        }
      ]
    },
    {
      "cell_type": "code",
      "source": [
        "heap.push(25)"
      ],
      "metadata": {
        "id": "qKebgdqmsaQ8"
      },
      "execution_count": 10,
      "outputs": []
    },
    {
      "cell_type": "code",
      "source": [
        "print(heap)"
      ],
      "metadata": {
        "colab": {
          "base_uri": "https://localhost:8080/"
        },
        "id": "9w7Ik_CBsd3E",
        "outputId": "7d17289e-addf-47f4-bdb0-dfa301fd9e35"
      },
      "execution_count": 11,
      "outputs": [
        {
          "output_type": "stream",
          "name": "stdout",
          "text": [
            "[0, 25, 23, 19, 19, 12, 5, 16, 2]\n"
          ]
        }
      ]
    },
    {
      "cell_type": "code",
      "source": [
        "heap.peek()"
      ],
      "metadata": {
        "colab": {
          "base_uri": "https://localhost:8080/"
        },
        "id": "uUVMDW-bsfSS",
        "outputId": "ae77cc87-6d30-4d6e-e848-684b576821a1"
      },
      "execution_count": 13,
      "outputs": [
        {
          "output_type": "execute_result",
          "data": {
            "text/plain": [
              "25"
            ]
          },
          "metadata": {},
          "execution_count": 13
        }
      ]
    },
    {
      "cell_type": "markdown",
      "source": [
        "# Graph"
      ],
      "metadata": {
        "id": "nQDyCWy97qVc"
      }
    },
    {
      "cell_type": "code",
      "source": [
        "class Vertex:\n",
        "  def __init__(self, n):\n",
        "    self.name = n\n",
        "    self.neighbors = set()\n",
        "  def add_neighbor(self, v):\n",
        "    self.neighbors.add(v)"
      ],
      "metadata": {
        "id": "PuOmEkOe0lAZ"
      },
      "execution_count": 14,
      "outputs": []
    },
    {
      "cell_type": "code",
      "source": [
        "class Graph:\n",
        "  vertices = {}\n",
        "\n",
        "  def add_vertex(self, vertex):\n",
        "    if isinstance(vertex, Vertex) and vertex.name not in self.vertices:\n",
        "      self.vertices[vertex.name] = vertex\n",
        "      return True\n",
        "    return False\n",
        "  \n",
        "  def add_edge(self, u, v):\n",
        "    if u in self.vertices and v in self.vertices:\n",
        "      self.vertices[u].add_neighbor(v)\n",
        "      self.vertices[v].add_neighbor(u)\n",
        "      return True\n",
        "    return False\n",
        "  \n",
        "  def print_graph(self):\n",
        "    for key in sorted(list(self.vertices.keys())):\n",
        "      print(key, sorted(list(self.vertices[key].neighbors)))"
      ],
      "metadata": {
        "id": "KppKPBFN5JzP"
      },
      "execution_count": 18,
      "outputs": []
    },
    {
      "cell_type": "code",
      "source": [
        "g = Graph()\n",
        "a = Vertex('A')\n",
        "b = Vertex('B')\n",
        "c = Vertex('C')\n",
        "d = Vertex('D')\n",
        "e = Vertex('E')\n",
        "g.add_vertex(a)\n",
        "g.add_vertex(b)\n",
        "g.add_vertex(c)\n",
        "g.add_vertex(d)\n",
        "g.add_vertex(e)\n",
        "g.print_graph()"
      ],
      "metadata": {
        "colab": {
          "base_uri": "https://localhost:8080/"
        },
        "id": "6sXDgvKI63KH",
        "outputId": "67fb581f-bb97-4a7e-e1d2-35a91316ecbe"
      },
      "execution_count": 19,
      "outputs": [
        {
          "output_type": "stream",
          "name": "stdout",
          "text": [
            "A []\n",
            "B []\n",
            "C []\n",
            "D []\n",
            "E []\n"
          ]
        }
      ]
    },
    {
      "cell_type": "code",
      "source": [
        "g.add_edge('A', 'B')\n",
        "g.print_graph()"
      ],
      "metadata": {
        "colab": {
          "base_uri": "https://localhost:8080/"
        },
        "id": "2p7SEwG07eZX",
        "outputId": "8c21a357-4924-4628-b32c-8345154042cb"
      },
      "execution_count": 20,
      "outputs": [
        {
          "output_type": "stream",
          "name": "stdout",
          "text": [
            "A ['B']\n",
            "B ['A']\n",
            "C []\n",
            "D []\n",
            "E []\n"
          ]
        }
      ]
    }
  ]
}